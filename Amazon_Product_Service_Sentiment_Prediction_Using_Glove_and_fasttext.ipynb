{
  "nbformat": 4,
  "nbformat_minor": 0,
  "metadata": {
    "colab": {
      "provenance": [],
      "gpuType": "T4"
    },
    "kernelspec": {
      "name": "python3",
      "display_name": "Python 3"
    },
    "language_info": {
      "name": "python"
    },
    "accelerator": "GPU"
  },
  "cells": [
    {
      "cell_type": "code",
      "source": [
        "!wget https://www.dropbox.com/s/wt6otgwocdmu3y4/amazon_cells_labelled.txt"
      ],
      "metadata": {
        "colab": {
          "base_uri": "https://localhost:8080/"
        },
        "id": "kG0J49zMYYG8",
        "outputId": "7b68f71c-4fce-42d7-9a53-0844941ab0d9"
      },
      "execution_count": null,
      "outputs": [
        {
          "output_type": "stream",
          "name": "stdout",
          "text": [
            "--2024-05-04 11:34:02--  https://www.dropbox.com/s/wt6otgwocdmu3y4/amazon_cells_labelled.txt\n",
            "Resolving www.dropbox.com (www.dropbox.com)... 162.125.1.18, 2620:100:6016:18::a27d:112\n",
            "Connecting to www.dropbox.com (www.dropbox.com)|162.125.1.18|:443... connected.\n",
            "HTTP request sent, awaiting response... 302 Found\n",
            "Location: /s/raw/wt6otgwocdmu3y4/amazon_cells_labelled.txt [following]\n",
            "--2024-05-04 11:34:02--  https://www.dropbox.com/s/raw/wt6otgwocdmu3y4/amazon_cells_labelled.txt\n",
            "Reusing existing connection to www.dropbox.com:443.\n",
            "HTTP request sent, awaiting response... 302 Found\n",
            "Location: https://uc2d2c8ce48b53734c75723afc4c.dl.dropboxusercontent.com/cd/0/inline/CSQBC9lJiTgE9DNXDeQC1gi3amYVUosx81kTYvNTYrUySZCCav77lWKMEBgKiPFlaZMtf86TtzU5VjXxvhPm6gEIKQf5RwExVEWC2Jb3j3xye0WRycR9Vq549Hdo_W8Msu0/file# [following]\n",
            "--2024-05-04 11:34:03--  https://uc2d2c8ce48b53734c75723afc4c.dl.dropboxusercontent.com/cd/0/inline/CSQBC9lJiTgE9DNXDeQC1gi3amYVUosx81kTYvNTYrUySZCCav77lWKMEBgKiPFlaZMtf86TtzU5VjXxvhPm6gEIKQf5RwExVEWC2Jb3j3xye0WRycR9Vq549Hdo_W8Msu0/file\n",
            "Resolving uc2d2c8ce48b53734c75723afc4c.dl.dropboxusercontent.com (uc2d2c8ce48b53734c75723afc4c.dl.dropboxusercontent.com)... 162.125.1.15, 2620:100:6016:15::a27d:10f\n",
            "Connecting to uc2d2c8ce48b53734c75723afc4c.dl.dropboxusercontent.com (uc2d2c8ce48b53734c75723afc4c.dl.dropboxusercontent.com)|162.125.1.15|:443... connected.\n",
            "HTTP request sent, awaiting response... 200 OK\n",
            "Length: 58225 (57K) [text/plain]\n",
            "Saving to: ‘amazon_cells_labelled.txt’\n",
            "\n",
            "amazon_cells_labell 100%[===================>]  56.86K  --.-KB/s    in 0.009s  \n",
            "\n",
            "2024-05-04 11:34:03 (6.32 MB/s) - ‘amazon_cells_labelled.txt’ saved [58225/58225]\n",
            "\n"
          ]
        }
      ]
    },
    {
      "cell_type": "code",
      "execution_count": null,
      "metadata": {
        "id": "p1jldp5je3CY"
      },
      "outputs": [],
      "source": [
        "file = r'/content/amazon_cells_labelled.txt'"
      ]
    },
    {
      "cell_type": "code",
      "source": [
        "import pandas as pd"
      ],
      "metadata": {
        "id": "ye2uyWwsgQOf"
      },
      "execution_count": null,
      "outputs": []
    },
    {
      "cell_type": "code",
      "source": [
        "imdb = pd.read_csv(file,sep = '\\t',header=None,names=['reviews','target'])"
      ],
      "metadata": {
        "id": "R8DB3KxogV3x"
      },
      "execution_count": null,
      "outputs": []
    },
    {
      "cell_type": "code",
      "source": [
        "imdb.head()"
      ],
      "metadata": {
        "colab": {
          "base_uri": "https://localhost:8080/",
          "height": 206
        },
        "id": "6FvZ-hdRg8e5",
        "outputId": "ba106b12-df90-48c4-913b-21d99d135782"
      },
      "execution_count": null,
      "outputs": [
        {
          "output_type": "execute_result",
          "data": {
            "text/plain": [
              "                                             reviews  target\n",
              "0  So there is no way for me to plug it in here i...       0\n",
              "1                        Good case, Excellent value.       1\n",
              "2                             Great for the jawbone.       1\n",
              "3  Tied to charger for conversations lasting more...       0\n",
              "4                                  The mic is great.       1"
            ],
            "text/html": [
              "\n",
              "  <div id=\"df-a2d3bba9-3159-4a63-9b18-41795c5d6bce\" class=\"colab-df-container\">\n",
              "    <div>\n",
              "<style scoped>\n",
              "    .dataframe tbody tr th:only-of-type {\n",
              "        vertical-align: middle;\n",
              "    }\n",
              "\n",
              "    .dataframe tbody tr th {\n",
              "        vertical-align: top;\n",
              "    }\n",
              "\n",
              "    .dataframe thead th {\n",
              "        text-align: right;\n",
              "    }\n",
              "</style>\n",
              "<table border=\"1\" class=\"dataframe\">\n",
              "  <thead>\n",
              "    <tr style=\"text-align: right;\">\n",
              "      <th></th>\n",
              "      <th>reviews</th>\n",
              "      <th>target</th>\n",
              "    </tr>\n",
              "  </thead>\n",
              "  <tbody>\n",
              "    <tr>\n",
              "      <th>0</th>\n",
              "      <td>So there is no way for me to plug it in here i...</td>\n",
              "      <td>0</td>\n",
              "    </tr>\n",
              "    <tr>\n",
              "      <th>1</th>\n",
              "      <td>Good case, Excellent value.</td>\n",
              "      <td>1</td>\n",
              "    </tr>\n",
              "    <tr>\n",
              "      <th>2</th>\n",
              "      <td>Great for the jawbone.</td>\n",
              "      <td>1</td>\n",
              "    </tr>\n",
              "    <tr>\n",
              "      <th>3</th>\n",
              "      <td>Tied to charger for conversations lasting more...</td>\n",
              "      <td>0</td>\n",
              "    </tr>\n",
              "    <tr>\n",
              "      <th>4</th>\n",
              "      <td>The mic is great.</td>\n",
              "      <td>1</td>\n",
              "    </tr>\n",
              "  </tbody>\n",
              "</table>\n",
              "</div>\n",
              "    <div class=\"colab-df-buttons\">\n",
              "\n",
              "  <div class=\"colab-df-container\">\n",
              "    <button class=\"colab-df-convert\" onclick=\"convertToInteractive('df-a2d3bba9-3159-4a63-9b18-41795c5d6bce')\"\n",
              "            title=\"Convert this dataframe to an interactive table.\"\n",
              "            style=\"display:none;\">\n",
              "\n",
              "  <svg xmlns=\"http://www.w3.org/2000/svg\" height=\"24px\" viewBox=\"0 -960 960 960\">\n",
              "    <path d=\"M120-120v-720h720v720H120Zm60-500h600v-160H180v160Zm220 220h160v-160H400v160Zm0 220h160v-160H400v160ZM180-400h160v-160H180v160Zm440 0h160v-160H620v160ZM180-180h160v-160H180v160Zm440 0h160v-160H620v160Z\"/>\n",
              "  </svg>\n",
              "    </button>\n",
              "\n",
              "  <style>\n",
              "    .colab-df-container {\n",
              "      display:flex;\n",
              "      gap: 12px;\n",
              "    }\n",
              "\n",
              "    .colab-df-convert {\n",
              "      background-color: #E8F0FE;\n",
              "      border: none;\n",
              "      border-radius: 50%;\n",
              "      cursor: pointer;\n",
              "      display: none;\n",
              "      fill: #1967D2;\n",
              "      height: 32px;\n",
              "      padding: 0 0 0 0;\n",
              "      width: 32px;\n",
              "    }\n",
              "\n",
              "    .colab-df-convert:hover {\n",
              "      background-color: #E2EBFA;\n",
              "      box-shadow: 0px 1px 2px rgba(60, 64, 67, 0.3), 0px 1px 3px 1px rgba(60, 64, 67, 0.15);\n",
              "      fill: #174EA6;\n",
              "    }\n",
              "\n",
              "    .colab-df-buttons div {\n",
              "      margin-bottom: 4px;\n",
              "    }\n",
              "\n",
              "    [theme=dark] .colab-df-convert {\n",
              "      background-color: #3B4455;\n",
              "      fill: #D2E3FC;\n",
              "    }\n",
              "\n",
              "    [theme=dark] .colab-df-convert:hover {\n",
              "      background-color: #434B5C;\n",
              "      box-shadow: 0px 1px 3px 1px rgba(0, 0, 0, 0.15);\n",
              "      filter: drop-shadow(0px 1px 2px rgba(0, 0, 0, 0.3));\n",
              "      fill: #FFFFFF;\n",
              "    }\n",
              "  </style>\n",
              "\n",
              "    <script>\n",
              "      const buttonEl =\n",
              "        document.querySelector('#df-a2d3bba9-3159-4a63-9b18-41795c5d6bce button.colab-df-convert');\n",
              "      buttonEl.style.display =\n",
              "        google.colab.kernel.accessAllowed ? 'block' : 'none';\n",
              "\n",
              "      async function convertToInteractive(key) {\n",
              "        const element = document.querySelector('#df-a2d3bba9-3159-4a63-9b18-41795c5d6bce');\n",
              "        const dataTable =\n",
              "          await google.colab.kernel.invokeFunction('convertToInteractive',\n",
              "                                                    [key], {});\n",
              "        if (!dataTable) return;\n",
              "\n",
              "        const docLinkHtml = 'Like what you see? Visit the ' +\n",
              "          '<a target=\"_blank\" href=https://colab.research.google.com/notebooks/data_table.ipynb>data table notebook</a>'\n",
              "          + ' to learn more about interactive tables.';\n",
              "        element.innerHTML = '';\n",
              "        dataTable['output_type'] = 'display_data';\n",
              "        await google.colab.output.renderOutput(dataTable, element);\n",
              "        const docLink = document.createElement('div');\n",
              "        docLink.innerHTML = docLinkHtml;\n",
              "        element.appendChild(docLink);\n",
              "      }\n",
              "    </script>\n",
              "  </div>\n",
              "\n",
              "\n",
              "<div id=\"df-26549873-2746-48a9-98d6-9075201a0cd5\">\n",
              "  <button class=\"colab-df-quickchart\" onclick=\"quickchart('df-26549873-2746-48a9-98d6-9075201a0cd5')\"\n",
              "            title=\"Suggest charts\"\n",
              "            style=\"display:none;\">\n",
              "\n",
              "<svg xmlns=\"http://www.w3.org/2000/svg\" height=\"24px\"viewBox=\"0 0 24 24\"\n",
              "     width=\"24px\">\n",
              "    <g>\n",
              "        <path d=\"M19 3H5c-1.1 0-2 .9-2 2v14c0 1.1.9 2 2 2h14c1.1 0 2-.9 2-2V5c0-1.1-.9-2-2-2zM9 17H7v-7h2v7zm4 0h-2V7h2v10zm4 0h-2v-4h2v4z\"/>\n",
              "    </g>\n",
              "</svg>\n",
              "  </button>\n",
              "\n",
              "<style>\n",
              "  .colab-df-quickchart {\n",
              "      --bg-color: #E8F0FE;\n",
              "      --fill-color: #1967D2;\n",
              "      --hover-bg-color: #E2EBFA;\n",
              "      --hover-fill-color: #174EA6;\n",
              "      --disabled-fill-color: #AAA;\n",
              "      --disabled-bg-color: #DDD;\n",
              "  }\n",
              "\n",
              "  [theme=dark] .colab-df-quickchart {\n",
              "      --bg-color: #3B4455;\n",
              "      --fill-color: #D2E3FC;\n",
              "      --hover-bg-color: #434B5C;\n",
              "      --hover-fill-color: #FFFFFF;\n",
              "      --disabled-bg-color: #3B4455;\n",
              "      --disabled-fill-color: #666;\n",
              "  }\n",
              "\n",
              "  .colab-df-quickchart {\n",
              "    background-color: var(--bg-color);\n",
              "    border: none;\n",
              "    border-radius: 50%;\n",
              "    cursor: pointer;\n",
              "    display: none;\n",
              "    fill: var(--fill-color);\n",
              "    height: 32px;\n",
              "    padding: 0;\n",
              "    width: 32px;\n",
              "  }\n",
              "\n",
              "  .colab-df-quickchart:hover {\n",
              "    background-color: var(--hover-bg-color);\n",
              "    box-shadow: 0 1px 2px rgba(60, 64, 67, 0.3), 0 1px 3px 1px rgba(60, 64, 67, 0.15);\n",
              "    fill: var(--button-hover-fill-color);\n",
              "  }\n",
              "\n",
              "  .colab-df-quickchart-complete:disabled,\n",
              "  .colab-df-quickchart-complete:disabled:hover {\n",
              "    background-color: var(--disabled-bg-color);\n",
              "    fill: var(--disabled-fill-color);\n",
              "    box-shadow: none;\n",
              "  }\n",
              "\n",
              "  .colab-df-spinner {\n",
              "    border: 2px solid var(--fill-color);\n",
              "    border-color: transparent;\n",
              "    border-bottom-color: var(--fill-color);\n",
              "    animation:\n",
              "      spin 1s steps(1) infinite;\n",
              "  }\n",
              "\n",
              "  @keyframes spin {\n",
              "    0% {\n",
              "      border-color: transparent;\n",
              "      border-bottom-color: var(--fill-color);\n",
              "      border-left-color: var(--fill-color);\n",
              "    }\n",
              "    20% {\n",
              "      border-color: transparent;\n",
              "      border-left-color: var(--fill-color);\n",
              "      border-top-color: var(--fill-color);\n",
              "    }\n",
              "    30% {\n",
              "      border-color: transparent;\n",
              "      border-left-color: var(--fill-color);\n",
              "      border-top-color: var(--fill-color);\n",
              "      border-right-color: var(--fill-color);\n",
              "    }\n",
              "    40% {\n",
              "      border-color: transparent;\n",
              "      border-right-color: var(--fill-color);\n",
              "      border-top-color: var(--fill-color);\n",
              "    }\n",
              "    60% {\n",
              "      border-color: transparent;\n",
              "      border-right-color: var(--fill-color);\n",
              "    }\n",
              "    80% {\n",
              "      border-color: transparent;\n",
              "      border-right-color: var(--fill-color);\n",
              "      border-bottom-color: var(--fill-color);\n",
              "    }\n",
              "    90% {\n",
              "      border-color: transparent;\n",
              "      border-bottom-color: var(--fill-color);\n",
              "    }\n",
              "  }\n",
              "</style>\n",
              "\n",
              "  <script>\n",
              "    async function quickchart(key) {\n",
              "      const quickchartButtonEl =\n",
              "        document.querySelector('#' + key + ' button');\n",
              "      quickchartButtonEl.disabled = true;  // To prevent multiple clicks.\n",
              "      quickchartButtonEl.classList.add('colab-df-spinner');\n",
              "      try {\n",
              "        const charts = await google.colab.kernel.invokeFunction(\n",
              "            'suggestCharts', [key], {});\n",
              "      } catch (error) {\n",
              "        console.error('Error during call to suggestCharts:', error);\n",
              "      }\n",
              "      quickchartButtonEl.classList.remove('colab-df-spinner');\n",
              "      quickchartButtonEl.classList.add('colab-df-quickchart-complete');\n",
              "    }\n",
              "    (() => {\n",
              "      let quickchartButtonEl =\n",
              "        document.querySelector('#df-26549873-2746-48a9-98d6-9075201a0cd5 button');\n",
              "      quickchartButtonEl.style.display =\n",
              "        google.colab.kernel.accessAllowed ? 'block' : 'none';\n",
              "    })();\n",
              "  </script>\n",
              "</div>\n",
              "\n",
              "    </div>\n",
              "  </div>\n"
            ],
            "application/vnd.google.colaboratory.intrinsic+json": {
              "type": "dataframe",
              "variable_name": "imdb",
              "summary": "{\n  \"name\": \"imdb\",\n  \"rows\": 1000,\n  \"fields\": [\n    {\n      \"column\": \"reviews\",\n      \"properties\": {\n        \"dtype\": \"string\",\n        \"num_unique_values\": 990,\n        \"samples\": [\n          \"The range is very decent, I've been able to roam around my house with the phone in the living room with no reception/sound quality issues.\",\n          \"The reception is excellent!\",\n          \"I would have given no star if I was able.\"\n        ],\n        \"semantic_type\": \"\",\n        \"description\": \"\"\n      }\n    },\n    {\n      \"column\": \"target\",\n      \"properties\": {\n        \"dtype\": \"number\",\n        \"std\": 0,\n        \"min\": 0,\n        \"max\": 1,\n        \"num_unique_values\": 2,\n        \"samples\": [\n          1,\n          0\n        ],\n        \"semantic_type\": \"\",\n        \"description\": \"\"\n      }\n    }\n  ]\n}"
            }
          },
          "metadata": {},
          "execution_count": 6
        }
      ]
    },
    {
      "cell_type": "markdown",
      "source": [
        "# GLOVE"
      ],
      "metadata": {
        "id": "gss96NplKptg"
      }
    },
    {
      "cell_type": "code",
      "source": [
        "!wget https://nlp.stanford.edu/data/glove.840B.300d.zip"
      ],
      "metadata": {
        "colab": {
          "base_uri": "https://localhost:8080/"
        },
        "id": "epODvmoShk40",
        "outputId": "bfa18264-2a0d-4f51-c169-8223585ee779"
      },
      "execution_count": null,
      "outputs": [
        {
          "output_type": "stream",
          "name": "stdout",
          "text": [
            "--2024-04-22 06:49:21--  https://nlp.stanford.edu/data/glove.840B.300d.zip\n",
            "Resolving nlp.stanford.edu (nlp.stanford.edu)... 171.64.67.140\n",
            "Connecting to nlp.stanford.edu (nlp.stanford.edu)|171.64.67.140|:443... connected.\n",
            "HTTP request sent, awaiting response... 301 Moved Permanently\n",
            "Location: https://downloads.cs.stanford.edu/nlp/data/glove.840B.300d.zip [following]\n",
            "--2024-04-22 06:49:21--  https://downloads.cs.stanford.edu/nlp/data/glove.840B.300d.zip\n",
            "Resolving downloads.cs.stanford.edu (downloads.cs.stanford.edu)... 171.64.64.22\n",
            "Connecting to downloads.cs.stanford.edu (downloads.cs.stanford.edu)|171.64.64.22|:443... connected.\n",
            "HTTP request sent, awaiting response... 200 OK\n",
            "Length: 2176768927 (2.0G) [application/zip]\n",
            "Saving to: ‘glove.840B.300d.zip’\n",
            "\n",
            "glove.840B.300d.zip 100%[===================>]   2.03G  4.99MB/s    in 6m 50s  \n",
            "\n",
            "2024-04-22 06:56:11 (5.07 MB/s) - ‘glove.840B.300d.zip’ saved [2176768927/2176768927]\n",
            "\n"
          ]
        }
      ]
    },
    {
      "cell_type": "code",
      "source": [
        "!unzip /content/glove.840B.300d.zip"
      ],
      "metadata": {
        "colab": {
          "base_uri": "https://localhost:8080/"
        },
        "id": "_s6KrB9ekavD",
        "outputId": "af8b017c-2274-4484-dd47-9739e646cf59"
      },
      "execution_count": null,
      "outputs": [
        {
          "output_type": "stream",
          "name": "stdout",
          "text": [
            "Archive:  /content/glove.840B.300d.zip\n",
            "  inflating: glove.840B.300d.txt     \n"
          ]
        }
      ]
    },
    {
      "cell_type": "code",
      "source": [
        "# prompt: remove the zip file\n",
        "!rm /content/glove.840B.300d.zip"
      ],
      "metadata": {
        "id": "e2d2M7bekv4D"
      },
      "execution_count": null,
      "outputs": []
    },
    {
      "cell_type": "code",
      "source": [
        "import numpy as np"
      ],
      "metadata": {
        "id": "3Myd0NPKll0Z"
      },
      "execution_count": null,
      "outputs": []
    },
    {
      "cell_type": "code",
      "source": [
        "embedding_index = {}\n",
        "\n",
        "f = open('/content/glove.840B.300d.txt',encoding='utf-8')\n",
        "\n",
        "for line in f:\n",
        "  values = line.split()\n",
        "  word = values[0]\n",
        "  wts = np.array(values[-300:],dtype='float')\n",
        "\n",
        "  embedding_index[word] = wts\n",
        "\n",
        "\n",
        "f.close()\n",
        "\n"
      ],
      "metadata": {
        "id": "32b6iguUlovG"
      },
      "execution_count": null,
      "outputs": []
    },
    {
      "cell_type": "code",
      "source": [
        "embedding_index['game']"
      ],
      "metadata": {
        "colab": {
          "base_uri": "https://localhost:8080/"
        },
        "id": "fRFIXO3-nWhw",
        "outputId": "98f9f75b-68a2-4f2c-dc24-489842ab7992"
      },
      "execution_count": null,
      "outputs": [
        {
          "output_type": "execute_result",
          "data": {
            "text/plain": [
              "array([ 8.6444e-02,  8.1027e-02, -1.5578e-03, -6.5229e-01,  3.6894e-03,\n",
              "       -4.3055e-01,  4.8717e-02,  2.8673e-01,  6.7267e-01,  2.3081e+00,\n",
              "       -3.1301e-01,  6.2712e-02, -4.2556e-02,  3.1536e-01,  5.0276e-01,\n",
              "       -5.9517e-01,  1.8749e-01,  4.7462e-01, -6.7982e-02, -3.2575e-01,\n",
              "        7.0908e-02, -5.4175e-01,  6.6437e-01, -3.6656e-01,  5.4323e-01,\n",
              "        4.2801e-01,  2.8275e-01,  3.6518e-01, -5.7310e-01, -4.2559e-01,\n",
              "       -4.9679e-01, -4.4321e-01, -3.7171e-01, -1.6119e-02, -1.6179e-01,\n",
              "       -2.5470e-02, -5.4019e-02,  1.0053e-01, -2.4584e-01,  1.2470e-01,\n",
              "        1.9035e-01,  2.2256e-01,  8.3623e-02, -5.6904e-01, -1.0687e-01,\n",
              "       -1.2537e-02, -1.1404e+00,  9.6959e-01, -2.6961e-01,  4.1298e-01,\n",
              "        6.5008e-03,  3.0084e-01,  7.6340e-02,  1.2227e-01, -6.0023e-01,\n",
              "       -3.5106e-01, -2.1569e-01,  2.7707e-01, -1.6657e-01,  1.6061e-01,\n",
              "        6.7017e-01,  7.8402e-01, -5.1547e-03,  4.5123e-01,  3.0165e-01,\n",
              "       -5.8157e-02,  7.9388e-02, -1.5727e-01,  4.1485e-01, -1.5826e-01,\n",
              "        4.3873e-01,  3.1160e-01,  8.4074e-02, -1.9349e-01, -2.5909e-01,\n",
              "        1.5266e-02,  2.5215e-01, -2.0029e-01,  2.7451e-01,  1.0170e+00,\n",
              "       -4.3095e-01, -6.4467e-02,  1.5222e-01, -5.3078e-02,  1.9662e-01,\n",
              "        3.6934e-01, -1.6720e-01,  3.4013e-01,  4.3602e-02, -6.1778e-01,\n",
              "        3.4832e-02, -1.5954e-01, -7.4534e-01, -9.8573e-02,  5.0501e-01,\n",
              "       -4.6088e-01,  1.5983e-01, -1.5429e-01, -4.0008e-01,  1.0740e+00,\n",
              "        2.8648e-02, -3.3974e-01, -4.0260e-01,  3.9414e-01,  1.8876e-01,\n",
              "       -2.1312e-01,  1.7222e-01,  4.9489e-01, -1.0969e-01, -4.4161e-01,\n",
              "        7.5657e-01, -5.5209e-01, -6.8019e-01, -1.3006e-01, -9.5287e-02,\n",
              "        3.5141e-01, -6.6922e-01,  7.8696e-01, -5.9034e-01, -2.7693e-01,\n",
              "        2.4546e-01,  1.1286e-01,  4.2497e-02, -1.1505e-01, -3.1138e-01,\n",
              "        8.5715e-02, -1.9681e-01,  3.1533e-01,  1.3524e-01,  1.2511e-01,\n",
              "        4.7039e-01, -5.9044e-02, -3.1935e-01, -2.7962e-01, -2.9429e-01,\n",
              "       -4.8419e-01,  1.9723e-01, -3.9165e-01,  2.2707e-01, -5.7838e-01,\n",
              "       -2.7263e+00,  2.4213e-01, -1.3757e-01, -3.9146e-01,  1.5437e-01,\n",
              "        2.4328e-01, -2.5054e-01, -1.1375e-01, -7.1975e-02, -3.9135e-01,\n",
              "       -9.8581e-02,  3.2276e-02,  1.0816e-01,  1.5417e-01, -7.5018e-01,\n",
              "       -2.3329e-01, -3.2811e-02,  2.3051e-01,  3.4710e-01, -4.1111e-01,\n",
              "        7.0132e-02,  1.5982e-01,  2.3123e-01, -6.7629e-01, -3.9488e-01,\n",
              "       -1.5327e-01,  3.2075e-01,  9.6358e-02, -1.5660e-02,  1.1651e-02,\n",
              "       -8.8159e-02,  6.0233e-01,  5.3858e-02, -7.2872e-03, -1.5155e-01,\n",
              "       -1.4640e-01, -4.1655e-01,  4.8742e-02,  6.7580e-02,  8.8610e-02,\n",
              "       -3.2622e-01, -3.0645e-02, -1.1309e-02, -8.6424e-02, -3.3525e-01,\n",
              "       -2.0793e-01, -2.9496e-01, -5.1551e-03,  1.3888e-01,  1.8257e-01,\n",
              "       -2.8899e-01,  2.5648e-01,  3.8253e-01,  2.4357e-01,  1.1085e-01,\n",
              "        2.1593e-01,  2.2786e-01,  4.4069e-01, -4.7323e-01,  2.3176e-01,\n",
              "        1.0532e+00,  1.8496e-01,  4.9871e-01,  3.0364e-01, -4.1203e-01,\n",
              "       -3.8163e-01, -8.3860e-02,  4.1029e-01,  2.2908e-01,  2.0723e-01,\n",
              "       -6.9718e-02, -1.0947e-01,  5.5338e-01, -4.8567e-01,  1.4042e-01,\n",
              "        6.9060e-01,  2.5466e-01, -2.1365e-02, -1.0245e+00,  2.9120e-01,\n",
              "        1.2613e-01, -2.9868e-01, -7.2428e-01, -4.6460e-01, -7.2622e-01,\n",
              "       -3.0720e-01,  1.2657e-01,  1.1693e+00,  4.5265e-01,  8.9619e-01,\n",
              "       -2.0710e-01,  4.1708e-01,  5.3912e-02,  2.1933e-01, -3.7350e-01,\n",
              "        3.1121e-01,  7.1383e-02,  5.0705e-01, -5.4067e-01,  2.5583e-01,\n",
              "        2.6958e-01,  9.0131e-02, -2.3130e-01,  4.2097e-01, -7.7396e-01,\n",
              "       -5.5930e-01, -4.9462e-01,  2.0429e-01, -2.7581e-01,  6.9735e-04,\n",
              "        3.3561e-01, -6.7912e-02,  1.2766e-01,  7.6038e-02,  2.2034e-01,\n",
              "       -3.0799e-01, -2.8659e-01, -2.5138e-01, -2.5714e-01, -7.7250e-01,\n",
              "        4.7375e-01,  3.2384e-01, -2.4083e-02,  3.1315e-01,  2.7989e-01,\n",
              "       -1.6271e-01, -1.8721e-01, -1.0285e-01,  5.8838e-01, -1.8074e-01,\n",
              "       -3.3674e-01,  2.1704e-01,  1.8256e-01, -1.8500e-01, -7.3190e-01,\n",
              "       -1.5480e-01, -3.0637e-01,  1.0075e-01,  2.2746e-01, -1.4529e-01,\n",
              "       -1.5825e-01, -1.8203e-01, -8.1097e-01, -1.4067e-01, -1.1891e-01,\n",
              "       -5.7617e-02, -7.2738e-01, -7.1434e-01,  2.4830e-01, -1.7984e-01,\n",
              "       -2.5264e-01, -2.2295e-01, -8.8192e-01,  1.7666e-01,  5.0836e-01,\n",
              "        1.2774e-01, -5.1012e-01, -1.7262e-01, -1.2179e-02, -1.2467e-02])"
            ]
          },
          "metadata": {},
          "execution_count": 24
        }
      ]
    },
    {
      "cell_type": "code",
      "source": [
        "# prompt: train test split from sklearn for 80-20 split as imdb_train,imdb_test\n",
        "\n",
        "from sklearn.model_selection import train_test_split\n",
        "\n",
        "imdb_train, imdb_test = train_test_split(imdb, test_size=0.20, random_state=42)\n",
        "\n",
        "\n"
      ],
      "metadata": {
        "id": "MDps5HVxqeKb"
      },
      "execution_count": null,
      "outputs": []
    },
    {
      "cell_type": "code",
      "source": [
        "x_train = imdb_train['reviews']\n",
        "y_train = imdb_train['target']\n",
        "x_test = imdb_test['reviews']\n",
        "y_test = imdb_test['target']"
      ],
      "metadata": {
        "id": "HK_8zBc2rbyk"
      },
      "execution_count": null,
      "outputs": []
    },
    {
      "cell_type": "code",
      "source": [
        "from tensorflow.keras.preprocessing.text import Tokenizer\n",
        "from tensorflow.keras.preprocessing import sequence\n",
        "from tensorflow.keras.layers import LSTM,Dense,Input,Embedding,Dropout\n",
        "from tensorflow.keras.models import Model"
      ],
      "metadata": {
        "id": "5qxL_lQAr0LV"
      },
      "execution_count": null,
      "outputs": []
    },
    {
      "cell_type": "code",
      "source": [
        "from os.path import split\n",
        "max_len = 40\n",
        "\n",
        "tk = Tokenizer(char_level = False, split = ' ')\n",
        "\n",
        "tk.fit_on_texts(x_train)"
      ],
      "metadata": {
        "id": "FZRqxQ9tsqUi"
      },
      "execution_count": null,
      "outputs": []
    },
    {
      "cell_type": "code",
      "source": [
        "vocab_size = len(tk.word_index)"
      ],
      "metadata": {
        "id": "hFsP1Xn9tM0q"
      },
      "execution_count": null,
      "outputs": []
    },
    {
      "cell_type": "code",
      "source": [
        "seq_train = tk.texts_to_sequences(x_train)\n",
        "seq_test = tk.texts_to_sequences(x_test)"
      ],
      "metadata": {
        "id": "Z8zYD7ZVtPyG"
      },
      "execution_count": null,
      "outputs": []
    },
    {
      "cell_type": "code",
      "source": [
        "seq_train_matrix = sequence.pad_sequences(seq_train,maxlen = max_len)\n",
        "seq_test_matrix = sequence.pad_sequences(seq_test,maxlen = max_len)"
      ],
      "metadata": {
        "id": "aVGKzp_EtaZX"
      },
      "execution_count": null,
      "outputs": []
    },
    {
      "cell_type": "code",
      "source": [
        "embedding_matrix = np.zeros((vocab_size +1,300))"
      ],
      "metadata": {
        "id": "PcQ5z4TItwqE"
      },
      "execution_count": null,
      "outputs": []
    },
    {
      "cell_type": "code",
      "source": [
        "for word,i in tk.word_index.items():\n",
        "  embed_vector = embedding_index.get(word)\n",
        "\n",
        "  if embed_vector is not None:\n",
        "    embedding_matrix[i] = embed_vector\n",
        "  else:\n",
        "    print(word)"
      ],
      "metadata": {
        "colab": {
          "base_uri": "https://localhost:8080/"
        },
        "id": "ZM0zgHTRu3Ve",
        "outputId": "97950e66-6183-4586-aecf-2d7464f631da"
      },
      "execution_count": null,
      "outputs": [
        {
          "output_type": "stream",
          "name": "stdout",
          "text": [
            "i've\n",
            "i'm\n",
            "wasn't\n",
            "i'd\n",
            "there's\n",
            "won't\n",
            "couldn't\n",
            "they're\n",
            "wouldn't\n",
            "i'll\n",
            "90's\n",
            "aren't\n",
            "isn't\n",
            "joe's\n",
            "director's\n",
            "weren't\n",
            "'cover\n",
            "girl'\n",
            "huston's\n",
            "miyazaki's\n",
            "haven't\n",
            "he's\n",
            "hadn't\n",
            "miner's\n",
            "charles'\n",
            "crocdodile\n",
            "here's\n",
            "kieslowski\n",
            "roth's\n",
            "nicola's\n",
            "roeg\n",
            "childrens'\n",
            "chodorov\n",
            "negulesco\n",
            "connery's\n",
            "bergen's\n",
            "kanaly's\n",
            "roosevelt's\n",
            "wilkinson's\n",
            "character's\n",
            "'ive\n",
            "before'\n",
            "god's\n",
            "astronaut's\n",
            "widmark\n",
            "koteas\n",
            "you'd\n",
            "hummh\n",
            "joyce's\n",
            "iswas\n",
            "movie's\n",
            "one's\n",
            "ghibili\n",
            "duris\n",
            "'stagey'\n",
            "upa's\n",
            "shepard's\n",
            "nevsky\n",
            "goremeister\n",
            "scrimm\n",
            "let's\n",
            "problemsthe\n",
            "dickens'\n",
            "70's\n",
            "pixar's\n",
            "america's\n",
            "anne's\n",
            "'titta\n",
            "girolamo'\n",
            "would've\n",
            "mclaglen\n",
            "donlevy\n",
            "burton's\n",
            "mchattie\n",
            "hendrikson\n",
            "gabriel's\n",
            "viewer's\n",
            "brainsucking\n",
            "'so\n",
            "laughable'\n",
            "kid's\n",
            "you've\n",
            "pray's\n",
            "juano\n",
            "dosen't\n",
            "cruise's\n",
            "fausa\n",
            "aurvåg\n",
            "aailiyah\n",
            "luv's\n",
            "fox's\n",
            "today's\n",
            "hitchcock's\n",
            "estevez's\n",
            "taylor's\n",
            "stanwyck's\n",
            "fi's\n",
            "vandiver\n",
            "underacting\n",
            "filmiing\n",
            "mickey's\n",
            "clients'\n",
            "family's\n",
            "crowe's\n",
            "we'd\n",
            "baxendale\n",
            "1980's\n",
            "watson's\n",
            "black's\n",
            "labute\n",
            "film's\n",
            "else's\n",
            "hoffman's\n",
            "latifa's\n",
            "mansonites\n",
            "who's\n",
            "culture's\n",
            "she's\n",
            "laselva\n",
            "taelons\n",
            "80's\n",
            "kristoffersen\n",
            "ortolani\n",
            "everyone's\n",
            "hasn't\n",
            "'must'\n"
          ]
        }
      ]
    },
    {
      "cell_type": "code",
      "source": [
        "input = Input(name = 'review', shape = [max_len])\n",
        "embed = Embedding(vocab_size + 1, 300,mask_zero = True,weights = [embedding_matrix],trainable = False)(input)\n",
        "\n",
        "lstm_layer = LSTM(64)(embed)\n",
        "\n",
        "dense_layer = Dense(64,activation = 'relu')(lstm_layer)\n",
        "output = Dense(1,activation = 'sigmoid')(dense_layer)\n",
        "\n",
        "model = Model(inputs = input, outputs = output)"
      ],
      "metadata": {
        "id": "xuZ6pIEXvj19"
      },
      "execution_count": null,
      "outputs": []
    },
    {
      "cell_type": "code",
      "source": [
        "model.summary()"
      ],
      "metadata": {
        "colab": {
          "base_uri": "https://localhost:8080/"
        },
        "id": "fqXTu4UzzYeW",
        "outputId": "7f247515-f81a-4bad-ea48-e0f29c757ee8"
      },
      "execution_count": null,
      "outputs": [
        {
          "output_type": "stream",
          "name": "stdout",
          "text": [
            "Model: \"model\"\n",
            "_________________________________________________________________\n",
            " Layer (type)                Output Shape              Param #   \n",
            "=================================================================\n",
            " review (InputLayer)         [(None, 40)]              0         \n",
            "                                                                 \n",
            " embedding_3 (Embedding)     (None, 40, 300)           843600    \n",
            "                                                                 \n",
            " lstm_2 (LSTM)               (None, 64)                93440     \n",
            "                                                                 \n",
            " dense_2 (Dense)             (None, 32)                2080      \n",
            "                                                                 \n",
            " dense_3 (Dense)             (None, 1)                 33        \n",
            "                                                                 \n",
            "=================================================================\n",
            "Total params: 939153 (3.58 MB)\n",
            "Trainable params: 95553 (373.25 KB)\n",
            "Non-trainable params: 843600 (3.22 MB)\n",
            "_________________________________________________________________\n"
          ]
        }
      ]
    },
    {
      "cell_type": "code",
      "source": [
        "model.compile(optimizer='adam',loss = 'binary_crossentropy',metrics=['acc'])\n",
        "model.fit(seq_train_matrix,y_train,validation_data = [seq_test_matrix,y_test],epochs=50,verbose = 1)"
      ],
      "metadata": {
        "colab": {
          "base_uri": "https://localhost:8080/"
        },
        "id": "9pfnUgz4zl_p",
        "outputId": "67ffe62d-ef17-4cf7-ce92-494713e24b3f"
      },
      "execution_count": null,
      "outputs": [
        {
          "output_type": "stream",
          "name": "stdout",
          "text": [
            "Epoch 1/50\n",
            "19/19 [==============================] - 10s 219ms/step - loss: 0.5182 - acc: 0.7726 - val_loss: 0.5050 - val_acc: 0.7800\n",
            "Epoch 2/50\n",
            "19/19 [==============================] - 2s 123ms/step - loss: 0.3671 - acc: 0.8545 - val_loss: 0.5448 - val_acc: 0.7600\n",
            "Epoch 3/50\n",
            "19/19 [==============================] - 2s 115ms/step - loss: 0.2858 - acc: 0.8896 - val_loss: 0.3917 - val_acc: 0.8467\n",
            "Epoch 4/50\n",
            "19/19 [==============================] - 2s 114ms/step - loss: 0.2522 - acc: 0.9097 - val_loss: 0.4082 - val_acc: 0.8333\n",
            "Epoch 5/50\n",
            "19/19 [==============================] - 2s 120ms/step - loss: 0.1890 - acc: 0.9398 - val_loss: 0.4050 - val_acc: 0.8267\n",
            "Epoch 6/50\n",
            "19/19 [==============================] - 2s 122ms/step - loss: 0.1754 - acc: 0.9264 - val_loss: 0.3946 - val_acc: 0.8133\n",
            "Epoch 7/50\n",
            "19/19 [==============================] - 2s 121ms/step - loss: 0.1258 - acc: 0.9615 - val_loss: 0.4161 - val_acc: 0.8267\n",
            "Epoch 8/50\n",
            "19/19 [==============================] - 2s 130ms/step - loss: 0.1021 - acc: 0.9716 - val_loss: 0.4531 - val_acc: 0.8333\n",
            "Epoch 9/50\n",
            "19/19 [==============================] - 2s 128ms/step - loss: 0.1106 - acc: 0.9699 - val_loss: 0.7303 - val_acc: 0.7533\n",
            "Epoch 10/50\n",
            "19/19 [==============================] - 2s 128ms/step - loss: 0.1088 - acc: 0.9649 - val_loss: 0.4717 - val_acc: 0.8400\n",
            "Epoch 11/50\n",
            "19/19 [==============================] - 2s 113ms/step - loss: 0.0587 - acc: 0.9883 - val_loss: 0.4950 - val_acc: 0.8400\n",
            "Epoch 12/50\n",
            "19/19 [==============================] - 2s 120ms/step - loss: 0.0445 - acc: 0.9916 - val_loss: 0.5583 - val_acc: 0.8333\n",
            "Epoch 13/50\n",
            "19/19 [==============================] - 2s 128ms/step - loss: 0.0348 - acc: 0.9967 - val_loss: 0.5297 - val_acc: 0.8400\n",
            "Epoch 14/50\n",
            "19/19 [==============================] - 2s 121ms/step - loss: 0.0292 - acc: 0.9950 - val_loss: 0.5657 - val_acc: 0.8333\n",
            "Epoch 15/50\n",
            "19/19 [==============================] - 2s 122ms/step - loss: 0.0242 - acc: 0.9967 - val_loss: 0.5668 - val_acc: 0.8333\n",
            "Epoch 16/50\n",
            "19/19 [==============================] - 2s 124ms/step - loss: 0.0251 - acc: 0.9967 - val_loss: 0.5115 - val_acc: 0.8200\n",
            "Epoch 17/50\n",
            "19/19 [==============================] - 2s 119ms/step - loss: 0.0252 - acc: 0.9967 - val_loss: 0.6292 - val_acc: 0.8200\n",
            "Epoch 18/50\n",
            "19/19 [==============================] - 2s 132ms/step - loss: 0.0154 - acc: 0.9967 - val_loss: 0.8447 - val_acc: 0.8133\n",
            "Epoch 19/50\n",
            "19/19 [==============================] - 3s 133ms/step - loss: 0.0129 - acc: 0.9967 - val_loss: 0.6897 - val_acc: 0.8133\n",
            "Epoch 20/50\n",
            "19/19 [==============================] - 2s 120ms/step - loss: 0.0107 - acc: 0.9967 - val_loss: 0.7239 - val_acc: 0.8133\n",
            "Epoch 21/50\n",
            "19/19 [==============================] - 2s 122ms/step - loss: 0.0090 - acc: 0.9967 - val_loss: 0.8209 - val_acc: 0.8133\n",
            "Epoch 22/50\n",
            "19/19 [==============================] - 2s 121ms/step - loss: 0.0081 - acc: 0.9967 - val_loss: 0.7792 - val_acc: 0.8067\n",
            "Epoch 23/50\n",
            "19/19 [==============================] - 2s 124ms/step - loss: 0.0065 - acc: 0.9967 - val_loss: 0.8637 - val_acc: 0.8000\n",
            "Epoch 24/50\n",
            "19/19 [==============================] - 2s 120ms/step - loss: 0.0057 - acc: 0.9967 - val_loss: 0.8597 - val_acc: 0.8000\n",
            "Epoch 25/50\n",
            "19/19 [==============================] - 2s 120ms/step - loss: 0.0045 - acc: 1.0000 - val_loss: 0.9219 - val_acc: 0.8000\n",
            "Epoch 26/50\n",
            "19/19 [==============================] - 2s 124ms/step - loss: 0.0039 - acc: 1.0000 - val_loss: 0.9094 - val_acc: 0.8067\n",
            "Epoch 27/50\n",
            "19/19 [==============================] - 2s 112ms/step - loss: 0.0030 - acc: 1.0000 - val_loss: 0.9711 - val_acc: 0.7867\n",
            "Epoch 28/50\n",
            "19/19 [==============================] - 2s 125ms/step - loss: 0.0025 - acc: 1.0000 - val_loss: 0.9816 - val_acc: 0.8000\n",
            "Epoch 29/50\n",
            "19/19 [==============================] - 2s 118ms/step - loss: 0.0021 - acc: 1.0000 - val_loss: 1.0510 - val_acc: 0.8000\n",
            "Epoch 30/50\n",
            "19/19 [==============================] - 2s 115ms/step - loss: 0.0018 - acc: 1.0000 - val_loss: 1.0102 - val_acc: 0.7933\n",
            "Epoch 31/50\n",
            "19/19 [==============================] - 2s 124ms/step - loss: 0.0016 - acc: 1.0000 - val_loss: 1.0402 - val_acc: 0.8000\n",
            "Epoch 32/50\n",
            "19/19 [==============================] - 2s 120ms/step - loss: 0.0014 - acc: 1.0000 - val_loss: 1.0329 - val_acc: 0.8000\n",
            "Epoch 33/50\n",
            "19/19 [==============================] - 2s 129ms/step - loss: 0.0012 - acc: 1.0000 - val_loss: 1.1036 - val_acc: 0.8000\n",
            "Epoch 34/50\n",
            "19/19 [==============================] - 2s 126ms/step - loss: 0.0011 - acc: 1.0000 - val_loss: 1.0830 - val_acc: 0.8000\n",
            "Epoch 35/50\n",
            "19/19 [==============================] - 2s 114ms/step - loss: 9.8608e-04 - acc: 1.0000 - val_loss: 1.1133 - val_acc: 0.7933\n",
            "Epoch 36/50\n",
            "19/19 [==============================] - 2s 122ms/step - loss: 8.9930e-04 - acc: 1.0000 - val_loss: 1.1166 - val_acc: 0.8000\n",
            "Epoch 37/50\n",
            "19/19 [==============================] - 2s 124ms/step - loss: 8.1247e-04 - acc: 1.0000 - val_loss: 1.1513 - val_acc: 0.7933\n",
            "Epoch 38/50\n",
            "19/19 [==============================] - 3s 135ms/step - loss: 7.4707e-04 - acc: 1.0000 - val_loss: 1.1425 - val_acc: 0.7933\n",
            "Epoch 39/50\n",
            "19/19 [==============================] - 3s 139ms/step - loss: 6.8317e-04 - acc: 1.0000 - val_loss: 1.1532 - val_acc: 0.7933\n",
            "Epoch 40/50\n",
            "19/19 [==============================] - 3s 135ms/step - loss: 6.3227e-04 - acc: 1.0000 - val_loss: 1.1696 - val_acc: 0.7933\n",
            "Epoch 41/50\n",
            "19/19 [==============================] - 3s 139ms/step - loss: 5.8511e-04 - acc: 1.0000 - val_loss: 1.1794 - val_acc: 0.7933\n",
            "Epoch 42/50\n",
            "19/19 [==============================] - 3s 151ms/step - loss: 5.4595e-04 - acc: 1.0000 - val_loss: 1.1924 - val_acc: 0.7933\n",
            "Epoch 43/50\n",
            "19/19 [==============================] - 3s 134ms/step - loss: 5.1056e-04 - acc: 1.0000 - val_loss: 1.1928 - val_acc: 0.7933\n",
            "Epoch 44/50\n",
            "19/19 [==============================] - 3s 139ms/step - loss: 4.7289e-04 - acc: 1.0000 - val_loss: 1.2160 - val_acc: 0.7933\n",
            "Epoch 45/50\n",
            "19/19 [==============================] - 3s 139ms/step - loss: 4.4324e-04 - acc: 1.0000 - val_loss: 1.2371 - val_acc: 0.7933\n",
            "Epoch 46/50\n",
            "19/19 [==============================] - 2s 131ms/step - loss: 4.2141e-04 - acc: 1.0000 - val_loss: 1.2396 - val_acc: 0.7933\n",
            "Epoch 47/50\n",
            "19/19 [==============================] - 2s 117ms/step - loss: 3.9267e-04 - acc: 1.0000 - val_loss: 1.2178 - val_acc: 0.8000\n",
            "Epoch 48/50\n",
            "19/19 [==============================] - 2s 133ms/step - loss: 3.7261e-04 - acc: 1.0000 - val_loss: 1.2521 - val_acc: 0.7933\n",
            "Epoch 49/50\n",
            "19/19 [==============================] - 2s 118ms/step - loss: 3.5191e-04 - acc: 1.0000 - val_loss: 1.2896 - val_acc: 0.7933\n",
            "Epoch 50/50\n",
            "19/19 [==============================] - 3s 138ms/step - loss: 3.3343e-04 - acc: 1.0000 - val_loss: 1.2631 - val_acc: 0.7933\n"
          ]
        },
        {
          "output_type": "execute_result",
          "data": {
            "text/plain": [
              "<keras.src.callbacks.History at 0x7d15f81a02b0>"
            ]
          },
          "metadata": {},
          "execution_count": 46
        }
      ]
    },
    {
      "cell_type": "markdown",
      "source": [
        "# FASTTEXT"
      ],
      "metadata": {
        "id": "BbuqypLHKtpZ"
      }
    },
    {
      "cell_type": "code",
      "source": [
        "!wget https://dl.fbaipublicfiles.com/fasttext/vectors-wiki/wiki.en.zip"
      ],
      "metadata": {
        "id": "X4D34Zvk0Q56",
        "colab": {
          "base_uri": "https://localhost:8080/"
        },
        "outputId": "07f06f79-a88a-4f2a-aa7e-9a5a1d032542"
      },
      "execution_count": null,
      "outputs": [
        {
          "output_type": "stream",
          "name": "stdout",
          "text": [
            "--2024-05-04 11:34:35--  https://dl.fbaipublicfiles.com/fasttext/vectors-wiki/wiki.en.zip\n",
            "Resolving dl.fbaipublicfiles.com (dl.fbaipublicfiles.com)... 3.163.189.51, 3.163.189.96, 3.163.189.108, ...\n",
            "Connecting to dl.fbaipublicfiles.com (dl.fbaipublicfiles.com)|3.163.189.51|:443... connected.\n",
            "HTTP request sent, awaiting response... 200 OK\n",
            "Length: 10356881291 (9.6G) [application/zip]\n",
            "Saving to: ‘wiki.en.zip’\n",
            "\n",
            "wiki.en.zip         100%[===================>]   9.65G   240MB/s    in 41s     \n",
            "\n",
            "2024-05-04 11:35:17 (240 MB/s) - ‘wiki.en.zip’ saved [10356881291/10356881291]\n",
            "\n"
          ]
        }
      ]
    },
    {
      "cell_type": "code",
      "source": [
        "!unzip /content/wiki.en.zip"
      ],
      "metadata": {
        "colab": {
          "base_uri": "https://localhost:8080/"
        },
        "id": "WwnmIW8cLcMF",
        "outputId": "188cc812-114b-456b-9685-69e6af0b38d1"
      },
      "execution_count": null,
      "outputs": [
        {
          "output_type": "stream",
          "name": "stdout",
          "text": [
            "Archive:  /content/wiki.en.zip\n",
            "  inflating: wiki.en.vec             \n",
            "  inflating: wiki.en.bin             \n"
          ]
        }
      ]
    },
    {
      "cell_type": "code",
      "source": [
        "!rm /content/wiki.en.zip"
      ],
      "metadata": {
        "id": "PgedUtR8M9j5"
      },
      "execution_count": null,
      "outputs": []
    },
    {
      "cell_type": "code",
      "source": [
        "!pip install fasttext"
      ],
      "metadata": {
        "colab": {
          "base_uri": "https://localhost:8080/"
        },
        "id": "FlgURHLANg2e",
        "outputId": "998f3fcb-4530-43ba-86ba-496458d02ab5"
      },
      "execution_count": null,
      "outputs": [
        {
          "output_type": "stream",
          "name": "stdout",
          "text": [
            "Collecting fasttext\n",
            "  Downloading fasttext-0.9.2.tar.gz (68 kB)\n",
            "\u001b[?25l     \u001b[90m━━━━━━━━━━━━━━━━━━━━━━━━━━━━━━━━━━━━━━━━\u001b[0m \u001b[32m0.0/68.8 kB\u001b[0m \u001b[31m?\u001b[0m eta \u001b[36m-:--:--\u001b[0m\r\u001b[2K     \u001b[90m━━━━━━━━━━━━━━━━━━━━━━━━━━━━━━━━━━━━━━━━\u001b[0m \u001b[32m68.8/68.8 kB\u001b[0m \u001b[31m2.2 MB/s\u001b[0m eta \u001b[36m0:00:00\u001b[0m\n",
            "\u001b[?25h  Preparing metadata (setup.py) ... \u001b[?25l\u001b[?25hdone\n",
            "Collecting pybind11>=2.2 (from fasttext)\n",
            "  Using cached pybind11-2.12.0-py3-none-any.whl (234 kB)\n",
            "Requirement already satisfied: setuptools>=0.7.0 in /usr/local/lib/python3.10/dist-packages (from fasttext) (67.7.2)\n",
            "Requirement already satisfied: numpy in /usr/local/lib/python3.10/dist-packages (from fasttext) (1.25.2)\n",
            "Building wheels for collected packages: fasttext\n",
            "  Building wheel for fasttext (setup.py) ... \u001b[?25l\u001b[?25hdone\n",
            "  Created wheel for fasttext: filename=fasttext-0.9.2-cp310-cp310-linux_x86_64.whl size=4227141 sha256=cc198209b46d51cfe42186b6e9b35382a91c4f0c8cb39e1b08af4c2ca62ca082\n",
            "  Stored in directory: /root/.cache/pip/wheels/a5/13/75/f811c84a8ab36eedbaef977a6a58a98990e8e0f1967f98f394\n",
            "Successfully built fasttext\n",
            "Installing collected packages: pybind11, fasttext\n",
            "Successfully installed fasttext-0.9.2 pybind11-2.12.0\n"
          ]
        }
      ]
    },
    {
      "cell_type": "code",
      "source": [
        "from fasttext import load_model"
      ],
      "metadata": {
        "id": "0RjsFGCcNpi2"
      },
      "execution_count": null,
      "outputs": []
    },
    {
      "cell_type": "code",
      "source": [
        "ft_model = load_model('/content/wiki.en.bin')"
      ],
      "metadata": {
        "colab": {
          "base_uri": "https://localhost:8080/"
        },
        "id": "w7YISC-NNuiz",
        "outputId": "2dcfa8d4-b7d9-4365-d476-a0c1a743d78b"
      },
      "execution_count": null,
      "outputs": [
        {
          "output_type": "stream",
          "name": "stderr",
          "text": [
            "Warning : `load_model` does not return WordVectorModel or SupervisedModel any more, but a `FastText` object which is very similar.\n"
          ]
        }
      ]
    },
    {
      "cell_type": "code",
      "source": [
        "ft_model.get_dimension()\n"
      ],
      "metadata": {
        "colab": {
          "base_uri": "https://localhost:8080/"
        },
        "id": "nEDWikX2N4mZ",
        "outputId": "4ed11c3b-fc63-42ca-a237-15664b1ffb8a"
      },
      "execution_count": null,
      "outputs": [
        {
          "output_type": "execute_result",
          "data": {
            "text/plain": [
              "300"
            ]
          },
          "metadata": {},
          "execution_count": 13
        }
      ]
    },
    {
      "cell_type": "code",
      "source": [
        "embedding_matrix = np.zeros((vocab_size + 1,300))"
      ],
      "metadata": {
        "id": "vOJM2l1wOR6m"
      },
      "execution_count": null,
      "outputs": []
    },
    {
      "cell_type": "code",
      "source": [
        "word_not_there = 0\n",
        "for word,i in tk.word_index.items():\n",
        "  embed_vector = ft_model.get_word_vector(word).astype('float32')\n",
        "\n",
        "  if embed_vector is not None:\n",
        "    embedding_matrix[i] = embed_vector\n",
        "  else:\n",
        "    print(word)\n",
        "    word_not_there = word_not_there + 1"
      ],
      "metadata": {
        "id": "b3kaFekAZLyg"
      },
      "execution_count": null,
      "outputs": []
    },
    {
      "cell_type": "code",
      "source": [
        "# word_not_there = 0\n",
        "# for word,i in tk.word_index.items():\n",
        "#   embed_vector = ft_model.get_word_vector(word).astype('float32')\n",
        "#   embedding_matrix[i] = embed_vector\n"
      ],
      "metadata": {
        "id": "g_MAH6LsOc49"
      },
      "execution_count": null,
      "outputs": []
    },
    {
      "cell_type": "code",
      "source": [
        "word_not_there"
      ],
      "metadata": {
        "colab": {
          "base_uri": "https://localhost:8080/"
        },
        "id": "fCqbaH-sY3vq",
        "outputId": "03ee91be-b9b7-40e1-9efe-8b8305d51ffe"
      },
      "execution_count": null,
      "outputs": [
        {
          "output_type": "execute_result",
          "data": {
            "text/plain": [
              "0"
            ]
          },
          "metadata": {},
          "execution_count": 27
        }
      ]
    },
    {
      "cell_type": "code",
      "source": [
        "input = Input(name = 'review', shape = [max_len])\n",
        "embed = Embedding(vocab_size + 1, 300,mask_zero = True,weights = [embedding_matrix],trainable = False)(input)\n",
        "\n",
        "lstm_layer = LSTM(64)(embed)\n",
        "\n",
        "dense_layer = Dense(64,activation = 'relu')(lstm_layer)\n",
        "output = Dense(1,activation = 'sigmoid')(dense_layer)\n",
        "\n",
        "model = Model(inputs = input, outputs = output)"
      ],
      "metadata": {
        "id": "DX_Q6NQJPJ5x"
      },
      "execution_count": null,
      "outputs": []
    },
    {
      "cell_type": "code",
      "source": [
        "model.summary()"
      ],
      "metadata": {
        "colab": {
          "base_uri": "https://localhost:8080/"
        },
        "id": "EiBF74vYQ9Th",
        "outputId": "288cbdeb-3c48-4667-b41a-b539272569d9"
      },
      "execution_count": null,
      "outputs": [
        {
          "output_type": "stream",
          "name": "stdout",
          "text": [
            "Model: \"model\"\n",
            "_________________________________________________________________\n",
            " Layer (type)                Output Shape              Param #   \n",
            "=================================================================\n",
            " review (InputLayer)         [(None, 40)]              0         \n",
            "                                                                 \n",
            " embedding (Embedding)       (None, 40, 300)           497700    \n",
            "                                                                 \n",
            " lstm (LSTM)                 (None, 64)                93440     \n",
            "                                                                 \n",
            " dense (Dense)               (None, 64)                4160      \n",
            "                                                                 \n",
            " dense_1 (Dense)             (None, 1)                 65        \n",
            "                                                                 \n",
            "=================================================================\n",
            "Total params: 595365 (2.27 MB)\n",
            "Trainable params: 97665 (381.50 KB)\n",
            "Non-trainable params: 497700 (1.90 MB)\n",
            "_________________________________________________________________\n"
          ]
        }
      ]
    },
    {
      "cell_type": "code",
      "source": [
        "model.compile(optimizer='adam',loss = 'binary_crossentropy',metrics=['acc'])\n",
        "model.fit(seq_train_matrix,y_train,validation_data = [seq_test_matrix,y_test],epochs=50,verbose = 1)"
      ],
      "metadata": {
        "colab": {
          "base_uri": "https://localhost:8080/"
        },
        "id": "nLRecTw8RIBk",
        "outputId": "b8f9d6fa-9d67-4d18-8443-00c02c7d4295"
      },
      "execution_count": null,
      "outputs": [
        {
          "output_type": "stream",
          "name": "stdout",
          "text": [
            "Epoch 1/50\n",
            "25/25 [==============================] - 14s 146ms/step - loss: 0.6567 - acc: 0.6313 - val_loss: 0.6440 - val_acc: 0.6650\n",
            "Epoch 2/50\n",
            "25/25 [==============================] - 1s 58ms/step - loss: 0.4915 - acc: 0.8012 - val_loss: 0.5834 - val_acc: 0.6850\n",
            "Epoch 3/50\n",
            "25/25 [==============================] - 1s 58ms/step - loss: 0.3911 - acc: 0.8500 - val_loss: 0.4517 - val_acc: 0.7950\n",
            "Epoch 4/50\n",
            "25/25 [==============================] - 2s 72ms/step - loss: 0.3143 - acc: 0.8775 - val_loss: 0.4325 - val_acc: 0.7950\n",
            "Epoch 5/50\n",
            "25/25 [==============================] - 2s 79ms/step - loss: 0.2675 - acc: 0.8988 - val_loss: 0.4281 - val_acc: 0.8150\n",
            "Epoch 6/50\n",
            "25/25 [==============================] - 2s 76ms/step - loss: 0.2993 - acc: 0.8913 - val_loss: 0.5230 - val_acc: 0.7750\n",
            "Epoch 7/50\n",
            "25/25 [==============================] - 2s 60ms/step - loss: 0.2226 - acc: 0.9150 - val_loss: 0.4716 - val_acc: 0.8300\n",
            "Epoch 8/50\n",
            "25/25 [==============================] - 2s 64ms/step - loss: 0.1673 - acc: 0.9350 - val_loss: 0.4290 - val_acc: 0.8250\n",
            "Epoch 9/50\n",
            "25/25 [==============================] - 2s 61ms/step - loss: 0.1547 - acc: 0.9500 - val_loss: 0.4610 - val_acc: 0.8350\n",
            "Epoch 10/50\n",
            "25/25 [==============================] - 2s 63ms/step - loss: 0.1010 - acc: 0.9675 - val_loss: 0.5438 - val_acc: 0.8150\n",
            "Epoch 11/50\n",
            "25/25 [==============================] - 2s 64ms/step - loss: 0.1158 - acc: 0.9663 - val_loss: 0.4377 - val_acc: 0.8600\n",
            "Epoch 12/50\n",
            "25/25 [==============================] - 2s 72ms/step - loss: 0.0554 - acc: 0.9912 - val_loss: 0.5177 - val_acc: 0.8600\n",
            "Epoch 13/50\n",
            "25/25 [==============================] - 2s 83ms/step - loss: 0.0669 - acc: 0.9775 - val_loss: 0.5365 - val_acc: 0.8550\n",
            "Epoch 14/50\n",
            "25/25 [==============================] - 2s 63ms/step - loss: 0.0914 - acc: 0.9613 - val_loss: 0.7059 - val_acc: 0.8000\n",
            "Epoch 15/50\n",
            "25/25 [==============================] - 2s 62ms/step - loss: 0.0558 - acc: 0.9825 - val_loss: 0.4947 - val_acc: 0.8600\n",
            "Epoch 16/50\n",
            "25/25 [==============================] - 1s 59ms/step - loss: 0.0268 - acc: 0.9950 - val_loss: 0.5946 - val_acc: 0.8600\n",
            "Epoch 17/50\n",
            "25/25 [==============================] - 2s 62ms/step - loss: 0.0217 - acc: 0.9950 - val_loss: 0.5887 - val_acc: 0.8550\n",
            "Epoch 18/50\n",
            "25/25 [==============================] - 2s 63ms/step - loss: 0.0161 - acc: 0.9962 - val_loss: 0.7660 - val_acc: 0.8300\n",
            "Epoch 19/50\n",
            "25/25 [==============================] - 2s 60ms/step - loss: 0.0080 - acc: 0.9987 - val_loss: 0.6540 - val_acc: 0.8700\n",
            "Epoch 20/50\n",
            "25/25 [==============================] - 2s 63ms/step - loss: 0.0041 - acc: 1.0000 - val_loss: 0.6947 - val_acc: 0.8700\n",
            "Epoch 21/50\n",
            "25/25 [==============================] - 2s 63ms/step - loss: 0.0026 - acc: 1.0000 - val_loss: 0.7590 - val_acc: 0.8900\n",
            "Epoch 22/50\n",
            "25/25 [==============================] - 2s 63ms/step - loss: 0.0021 - acc: 1.0000 - val_loss: 0.7709 - val_acc: 0.8800\n",
            "Epoch 23/50\n",
            "25/25 [==============================] - 2s 66ms/step - loss: 0.0017 - acc: 1.0000 - val_loss: 0.7887 - val_acc: 0.8800\n",
            "Epoch 24/50\n",
            "25/25 [==============================] - 2s 75ms/step - loss: 0.0014 - acc: 1.0000 - val_loss: 0.8161 - val_acc: 0.8800\n",
            "Epoch 25/50\n",
            "25/25 [==============================] - 2s 61ms/step - loss: 0.0012 - acc: 1.0000 - val_loss: 0.8368 - val_acc: 0.8800\n",
            "Epoch 26/50\n",
            "25/25 [==============================] - 2s 63ms/step - loss: 0.0011 - acc: 1.0000 - val_loss: 0.8487 - val_acc: 0.8750\n",
            "Epoch 27/50\n",
            "25/25 [==============================] - 2s 63ms/step - loss: 9.3822e-04 - acc: 1.0000 - val_loss: 0.8646 - val_acc: 0.8750\n",
            "Epoch 28/50\n",
            "25/25 [==============================] - 2s 62ms/step - loss: 8.3469e-04 - acc: 1.0000 - val_loss: 0.8725 - val_acc: 0.8750\n",
            "Epoch 29/50\n",
            "25/25 [==============================] - 2s 61ms/step - loss: 7.5454e-04 - acc: 1.0000 - val_loss: 0.8966 - val_acc: 0.8700\n",
            "Epoch 30/50\n",
            "25/25 [==============================] - 2s 62ms/step - loss: 6.8755e-04 - acc: 1.0000 - val_loss: 0.9014 - val_acc: 0.8750\n",
            "Epoch 31/50\n",
            "25/25 [==============================] - 2s 66ms/step - loss: 6.2140e-04 - acc: 1.0000 - val_loss: 0.9182 - val_acc: 0.8750\n",
            "Epoch 32/50\n",
            "25/25 [==============================] - 2s 61ms/step - loss: 5.6673e-04 - acc: 1.0000 - val_loss: 0.9273 - val_acc: 0.8700\n",
            "Epoch 33/50\n",
            "25/25 [==============================] - 1s 59ms/step - loss: 5.2261e-04 - acc: 1.0000 - val_loss: 0.9377 - val_acc: 0.8700\n",
            "Epoch 34/50\n",
            "25/25 [==============================] - 2s 62ms/step - loss: 4.7931e-04 - acc: 1.0000 - val_loss: 0.9533 - val_acc: 0.8600\n",
            "Epoch 35/50\n",
            "25/25 [==============================] - 2s 62ms/step - loss: 4.4277e-04 - acc: 1.0000 - val_loss: 0.9619 - val_acc: 0.8600\n",
            "Epoch 36/50\n",
            "25/25 [==============================] - 2s 61ms/step - loss: 4.1206e-04 - acc: 1.0000 - val_loss: 0.9732 - val_acc: 0.8600\n",
            "Epoch 37/50\n",
            "25/25 [==============================] - 1s 59ms/step - loss: 3.8162e-04 - acc: 1.0000 - val_loss: 0.9823 - val_acc: 0.8600\n",
            "Epoch 38/50\n",
            "25/25 [==============================] - 2s 62ms/step - loss: 3.5768e-04 - acc: 1.0000 - val_loss: 0.9894 - val_acc: 0.8600\n",
            "Epoch 39/50\n",
            "25/25 [==============================] - 1s 59ms/step - loss: 3.3123e-04 - acc: 1.0000 - val_loss: 1.0043 - val_acc: 0.8600\n",
            "Epoch 40/50\n",
            "25/25 [==============================] - 2s 63ms/step - loss: 3.1276e-04 - acc: 1.0000 - val_loss: 1.0114 - val_acc: 0.8550\n",
            "Epoch 41/50\n",
            "25/25 [==============================] - 2s 63ms/step - loss: 2.9229e-04 - acc: 1.0000 - val_loss: 1.0211 - val_acc: 0.8550\n",
            "Epoch 42/50\n",
            "25/25 [==============================] - 2s 65ms/step - loss: 2.7616e-04 - acc: 1.0000 - val_loss: 1.0336 - val_acc: 0.8600\n",
            "Epoch 43/50\n",
            "25/25 [==============================] - 2s 60ms/step - loss: 2.5938e-04 - acc: 1.0000 - val_loss: 1.0359 - val_acc: 0.8550\n",
            "Epoch 44/50\n",
            "25/25 [==============================] - 1s 60ms/step - loss: 2.4816e-04 - acc: 1.0000 - val_loss: 1.0445 - val_acc: 0.8550\n",
            "Epoch 45/50\n",
            "25/25 [==============================] - 2s 64ms/step - loss: 2.3113e-04 - acc: 1.0000 - val_loss: 1.0608 - val_acc: 0.8600\n",
            "Epoch 46/50\n",
            "25/25 [==============================] - 2s 63ms/step - loss: 2.1854e-04 - acc: 1.0000 - val_loss: 1.0627 - val_acc: 0.8500\n",
            "Epoch 47/50\n",
            "25/25 [==============================] - 2s 60ms/step - loss: 2.0700e-04 - acc: 1.0000 - val_loss: 1.0706 - val_acc: 0.8500\n",
            "Epoch 48/50\n",
            "25/25 [==============================] - 2s 61ms/step - loss: 1.9688e-04 - acc: 1.0000 - val_loss: 1.0807 - val_acc: 0.8550\n",
            "Epoch 49/50\n",
            "25/25 [==============================] - 2s 62ms/step - loss: 1.8700e-04 - acc: 1.0000 - val_loss: 1.0870 - val_acc: 0.8500\n",
            "Epoch 50/50\n",
            "25/25 [==============================] - 2s 61ms/step - loss: 1.7878e-04 - acc: 1.0000 - val_loss: 1.0975 - val_acc: 0.8600\n"
          ]
        },
        {
          "output_type": "execute_result",
          "data": {
            "text/plain": [
              "<keras.src.callbacks.History at 0x7e9328183400>"
            ]
          },
          "metadata": {},
          "execution_count": 30
        }
      ]
    },
    {
      "cell_type": "code",
      "source": [],
      "metadata": {
        "id": "v7mv_5CIbJKM"
      },
      "execution_count": null,
      "outputs": []
    }
  ]
}